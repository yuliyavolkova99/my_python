{
 "cells": [
  {
   "cell_type": "markdown",
   "metadata": {},
   "source": [
    "Импортируем модуль pandas и читаем содержимое csv файла"
   ]
  },
  {
   "cell_type": "code",
   "execution_count": 1,
   "metadata": {},
   "outputs": [],
   "source": [
    "import pandas as pd\n",
    "url = \"https://raw.githubusercontent.com/dm-fedorov/pandas_basic/master/data/football.csv\"\n",
    "football = pd.read_csv(url)"
   ]
  },
  {
   "cell_type": "markdown",
   "metadata": {},
   "source": [
    "**Задание 1**"
   ]
  },
  {
   "cell_type": "markdown",
   "metadata": {},
   "source": [
    "Посчитайте среднюю зарплату (Wage) и цену (Value) игроков разных позиций (Position). Представители какой позиции имеют самую высокую среднюю цену?"
   ]
  },
  {
   "cell_type": "code",
   "execution_count": 2,
   "metadata": {},
   "outputs": [
    {
     "name": "stdout",
     "output_type": "stream",
     "text": [
      "RF\n"
     ]
    }
   ],
   "source": [
    "mean_wage = print(football.groupby(['Position']).mean()['Wage'].sort_values(ascending = False).index[0])"
   ]
  },
  {
   "cell_type": "markdown",
   "metadata": {},
   "source": [
    "**Задание 1**"
   ]
  },
  {
   "cell_type": "markdown",
   "metadata": {},
   "source": [
    "Посчитайте среднюю (mean) и медианную (median) зарплату (Wage) футболистов из разных клубов (Club). В скольких клубах средняя и медианная зарплаты совпадают?\n",
    "\n",
    "Подсказка: чтобы в процессе группировки применить к данным одновременно две агрегирующие функции, необходимо указать их как аргументы метода agg:\n",
    "\n",
    "df.groupby(столбец_для_группировки)[столбцы_для_отображения].agg(['функция_1', 'функция_2'])"
   ]
  },
  {
   "cell_type": "code",
   "execution_count": 3,
   "metadata": {},
   "outputs": [
    {
     "name": "stdout",
     "output_type": "stream",
     "text": [
      "                              mean  median\n",
      "Club                                      \n",
      " SSV Jahn Regensburg   3750.000000    3500\n",
      "1. FC Heidenheim 1846  3800.000000    3000\n",
      "1. FC Kaiserslautern   1434.782609    1000\n",
      "1. FC Köln             9200.000000    4000\n",
      "1. FC Magdeburg        4000.000000    4000\n",
      "...                            ...     ...\n",
      "Zagłębie Sosnowiec     1080.000000    1000\n",
      "Çaykur Rizespor        5363.636364    4500\n",
      "Örebro SK              1384.615385    1000\n",
      "Östersunds FK          1950.000000    1000\n",
      "Śląsk Wrocław          2083.333333    2000\n",
      "\n",
      "[650 rows x 2 columns]\n"
     ]
    }
   ],
   "source": [
    "mean_median_wage = print(football.groupby(['Club']).agg(['mean', 'median'])['Wage'])"
   ]
  },
  {
   "cell_type": "code",
   "execution_count": 4,
   "metadata": {},
   "outputs": [
    {
     "name": "stdout",
     "output_type": "stream",
     "text": [
      "Клубы с одинаковыми средней и медианной зарплатами:\n",
      " ['Shakhtar Donetsk', 'Lokomotiv Moscow', 'Dynamo Kyiv', 'Spartak Moscow', 'PAOK', 'Olympiacos CFP', 'PFC CSKA Moscow', 'AEK Athens', 'Göztepe SK', 'Dinamo Zagreb', 'Kaizer Chiefs', 'Sparta Praha', 'Viktoria Plzeň', 'Benevento', 'SK Slavia Praha', 'Brøndby IF', 'CD Tondela', 'CD Feirense', 'Cruzeiro', 'Panathinaikos FC', 'AJ Auxerre', 'Philadelphia Union', 'Patriotas Boyacá FC', 'Deportivo Pasto', 'Heracles Almelo', 'Pohang Steelers', 'Kashiwa Reysol', '1. FC Magdeburg', 'Stade Brestois 29', 'Sunderland', 'Orlando Pirates', 'Jaguares de Córdoba', 'Jeonnam Dragons', 'Boyacá Chicó FC', 'HJK Helsinki', 'Envigado FC', 'Dundalk', 'FC Energie Cottbus', 'IK Sirius', 'Northampton Town', 'Shamrock Rovers', 'FC Metz', 'Grimsby Town', 'Itagüí Leones FC', 'Trelleborgs FF', \"St. Patrick's Athletic\", 'Cork City', 'IF Brommapojkarna', 'Bohemian FC', 'Sligo Rovers', 'Limerick FC', 'Bray Wanderers'] \n",
      " Их количество:  52\n"
     ]
    }
   ],
   "source": [
    "same = []\n",
    "for club in football['Club'].unique():\n",
    "    if football[football['Club'] == club]['Wage'].mean() == football[football['Club'] == club]['Wage'].median():\n",
    "        same.append(club)\n",
    "        a = len(same)\n",
    "print('Клубы с одинаковыми средней и медианной зарплатами:\\n',same,'\\n', 'Их количество: ', a)"
   ]
  },
  {
   "cell_type": "markdown",
   "metadata": {},
   "source": [
    "**Задание 2**"
   ]
  },
  {
   "cell_type": "markdown",
   "metadata": {},
   "source": [
    "Продолжаем работать с клубами, в которых средняя зарплата совпадает с медианной. Каков максимальный размер средней зарплаты в этой группе клубов? Как называется клуб, в котором игроки получают такую з/п?"
   ]
  },
  {
   "cell_type": "code",
   "execution_count": 5,
   "metadata": {},
   "outputs": [
    {
     "name": "stdout",
     "output_type": "stream",
     "text": [
      "Максимальная средняя оплата равна 13000.0 в клубе Cruzeiro\n"
     ]
    }
   ],
   "source": [
    "max_club = ''\n",
    "max_wage = 0\n",
    "same = []\n",
    "for club in football['Club'].unique():\n",
    "    if football[football['Club'] == club]['Wage'].mean() == football[football['Club'] == club]['Wage'].median():\n",
    "        same.append(club)\n",
    "        a = len(same)\n",
    "        if football[football['Club'] == club]['Wage'].mean() > max_wage:\n",
    "            max_wage = football[football['Club'] == club]['Wage'].mean()\n",
    "            max_club = club\n",
    "print('Максимальная средняя оплата равна', max_wage, 'в клубе', max_club)"
   ]
  },
  {
   "cell_type": "markdown",
   "metadata": {},
   "source": [
    "**Задача 1**"
   ]
  },
  {
   "cell_type": "markdown",
   "metadata": {},
   "source": [
    "С помощью функции groupby посчитайте сумму зарплат (Wage) футболистов клуба (Club) \"Chelsea\"."
   ]
  },
  {
   "cell_type": "code",
   "execution_count": 6,
   "metadata": {},
   "outputs": [
    {
     "name": "stdout",
     "output_type": "stream",
     "text": [
      "Бюджет Chelsea составляет: 2035000\n"
     ]
    }
   ],
   "source": [
    "print('Бюджет Chelsea составляет:', football.groupby(['Club']).sum().loc['Chelsea']['Wage'])"
   ]
  },
  {
   "cell_type": "markdown",
   "metadata": {},
   "source": [
    "**Задача 2**"
   ]
  },
  {
   "cell_type": "markdown",
   "metadata": {},
   "source": [
    "Определите максимальную зарплату футболиста национальности (Nationality) Аргентина (\"Argentina\") в возрасте 20 лет."
   ]
  },
  {
   "cell_type": "code",
   "execution_count": 7,
   "metadata": {},
   "outputs": [
    {
     "name": "stdout",
     "output_type": "stream",
     "text": [
      "Максимальная зарплата футболиста из Аргентины в возрасте 20-ти лет составляет : 54000\n"
     ]
    }
   ],
   "source": [
    "print('Максимальная зарплата футболиста из Аргентины в возрасте 20-ти лет составляет :',\n",
    "      football[(football['Nationality'] == 'Argentina') & (football['Age'] == 20)]['Wage'].max())"
   ]
  },
  {
   "cell_type": "markdown",
   "metadata": {},
   "source": [
    "**Задача 3**"
   ]
  },
  {
   "cell_type": "markdown",
   "metadata": {},
   "source": [
    "Определите максимальную зарплату футболиста национальности (Nationality) Аргентина (\"Argentina\") в возрасте 30 лет."
   ]
  },
  {
   "cell_type": "code",
   "execution_count": 8,
   "metadata": {},
   "outputs": [
    {
     "name": "stdout",
     "output_type": "stream",
     "text": [
      "Максимальная зарплата футболиста из Аргентины в возрасте 30-ти лет составляет : 300000\n"
     ]
    }
   ],
   "source": [
    "print('Максимальная зарплата футболиста из Аргентины в возрасте 30-ти лет составляет :',\n",
    "      football[(football['Nationality'] == 'Argentina') & (football['Age'] == 30)]['Wage'].max())"
   ]
  },
  {
   "cell_type": "markdown",
   "metadata": {},
   "source": [
    "**Задача 4**"
   ]
  },
  {
   "cell_type": "markdown",
   "metadata": {},
   "source": [
    "Определите минимальную зарплату футболиста национальности (Nationality) Аргентина (\"Argentina\") в возрасте 30 лет."
   ]
  },
  {
   "cell_type": "code",
   "execution_count": 9,
   "metadata": {},
   "outputs": [
    {
     "name": "stdout",
     "output_type": "stream",
     "text": [
      "Минимальнаяя зарплата футболиста из Аргентины в возрасте 30-ти лет составляет : 1000\n"
     ]
    }
   ],
   "source": [
    "print('Минимальнаяя зарплата футболиста из Аргентины в возрасте 30-ти лет составляет :',\n",
    "      football[(football['Nationality'] == 'Argentina') & (football['Age'] == 30)]['Wage'].min())"
   ]
  },
  {
   "cell_type": "markdown",
   "metadata": {},
   "source": [
    "**Задача 5**"
   ]
  },
  {
   "cell_type": "markdown",
   "metadata": {},
   "source": [
    "Определите максимальную силу (Strength) и баланс (Balance) среди игроков клуба (Club) \"FC Barcelona\" из Аргентины (\"Argentina\"). Ответ через точку с запятой без пробела."
   ]
  },
  {
   "cell_type": "code",
   "execution_count": 10,
   "metadata": {},
   "outputs": [
    {
     "name": "stdout",
     "output_type": "stream",
     "text": [
      "Максимальные сила:  59\n",
      "Максимальный баланс:  95\n"
     ]
    }
   ],
   "source": [
    "print('Максимальные сила: ', str(football[(football['Club'] == 'FC Barcelona') & \n",
    "                                          (football['Nationality'] == 'Argentina')]['Strength'][0].max()))\n",
    "print('Максимальный баланс: ', football[(football['Club'] == 'FC Barcelona') &\n",
    "                                        (football['Nationality'] == 'Argentina')]['Balance'].max())"
   ]
  }
 ],
 "metadata": {
  "kernelspec": {
   "display_name": "Python 3",
   "language": "python",
   "name": "python3"
  },
  "language_info": {
   "codemirror_mode": {
    "name": "ipython",
    "version": 3
   },
   "file_extension": ".py",
   "mimetype": "text/x-python",
   "name": "python",
   "nbconvert_exporter": "python",
   "pygments_lexer": "ipython3",
   "version": "3.7.4"
  }
 },
 "nbformat": 4,
 "nbformat_minor": 4
}
