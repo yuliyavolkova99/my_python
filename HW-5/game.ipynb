{
 "cells": [
  {
   "cell_type": "code",
   "execution_count": null,
   "metadata": {},
   "outputs": [],
   "source": [
    "class Character:\n",
    "    def __init__(self, name, x=0, y=0, hlt=10, injury=1, speed=1, b=1):\n",
    "        self._x = x\n",
    "        self._y = y\n",
    "        self._hlt = hlt\n",
    "        self._injury = injury\n",
    "        self._speed = speed\n",
    "        self._b = b\n",
    "\n",
    "    def running(self, route, lambda_x = 1, lambda_y = 1):\n",
    "        self._x += lambda_x\n",
    "        self._y += lambda_y\n",
    "        if self._hlt <= 0:\n",
    "            print(\"Увы! Герой мертв\")\n",
    "        else:\n",
    "            self._x = self._x + route*self._speed\n",
    "            print(\"Герой бежит, его координаты \", {self._x, self._y})\n",
    "            \n",
    "    def plunderring(self, activity):\n",
    "        if activity == \"boost\":\n",
    "            self._speed = self._speed*2\n",
    "            print(\"Двойная скорость\")\n",
    "            self._speed = self._speed/2\n",
    "            print('Замедление скорости в 2 раза')\n",
    "        elif activity == \"health\":\n",
    "            self._hlt = self._hlt + 5\n",
    "            print(\"Шкала здоровья: +5\")\n",
    "\n",
    "\n",
    "\n",
    "    def shootting(self, aim):\n",
    "        if aim._hlt <= 0:\n",
    "            print(\"Увы! Герой мертв\")\n",
    "        elif abs(aim._x - self._x)<= self._b:\n",
    "            aim._hlt -= self._injury\n",
    "            print(\"Жертва ранена\")\n",
    "        else:\n",
    "            print(\"Невозможно выстрелить!\")\n",
    "\n",
    "\n",
    "class FlyingHero(Character):\n",
    "    def flying(self, b):\n",
    "        self._y = y + b*self._speed\n",
    "\n",
    "\n",
    "char1 = Character(\"Ivan\")\n",
    "char2 = Character(\"Ivanka\")\n",
    "char2.shootting(char1)\n",
    "char1.running(4)\n",
    "char1.plunderring(\"boost\")\n",
    "char1.shootting(char2)\n",
    "char2.shootting(char1)\n",
    "char1.plunderring(\"boost\")\n",
    "char2.plunderring(\"health\")\n",
    "char1.shootting(char2)"
   ]
  }
 ],
 "metadata": {
  "kernelspec": {
   "display_name": "Python 3",
   "language": "python",
   "name": "python3"
  },
  "language_info": {
   "codemirror_mode": {
    "name": "ipython",
    "version": 3
   },
   "file_extension": ".py",
   "mimetype": "text/x-python",
   "name": "python",
   "nbconvert_exporter": "python",
   "pygments_lexer": "ipython3",
   "version": "3.7.4"
  }
 },
 "nbformat": 4,
 "nbformat_minor": 4
}
