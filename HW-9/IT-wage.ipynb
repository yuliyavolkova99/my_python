{
 "cells": [
  {
   "cell_type": "code",
   "execution_count": 1,
   "metadata": {},
   "outputs": [],
   "source": [
    "import pandas as pd\n",
    "df = pd.read_csv('https://raw.githubusercontent.com/dm-fedorov/pandas_basic/master/data/it.csv')"
   ]
  },
  {
   "cell_type": "markdown",
   "metadata": {},
   "source": [
    "**Определите среднюю з.п. по данным в рублях**"
   ]
  },
  {
   "cell_type": "code",
   "execution_count": 2,
   "metadata": {},
   "outputs": [
    {
     "name": "stdout",
     "output_type": "stream",
     "text": [
      "Средняя зарплата составляет:  190669.89488372093\n"
     ]
    }
   ],
   "source": [
    "ruble_wage = df[df['З/п в валюте найма'].str.contains('₽')]\n",
    "meanWage = ruble_wage['З/п в валюте найма'].str.translate(str.maketrans({'₽': '', ',': '.', '\\xa0': ''})).astype(float).mean()\n",
    "print('Средняя зарплата составляет: ', meanWage)"
   ]
  },
  {
   "cell_type": "markdown",
   "metadata": {},
   "source": [
    "**Определите технологию с максимальной з.п. по данным в рублях**"
   ]
  },
  {
   "cell_type": "code",
   "execution_count": 3,
   "metadata": {},
   "outputs": [
    {
     "name": "stdout",
     "output_type": "stream",
     "text": [
      "QA\n"
     ]
    }
   ],
   "source": [
    "print(ruble_wage.groupby(['Технология'])['З/п в валюте найма'].max().sort_values(ascending=False).index[0])"
   ]
  },
  {
   "cell_type": "markdown",
   "metadata": {},
   "source": [
    "**Определите возраст программистов с максимальной з.п. по данным в рублях**"
   ]
  },
  {
   "cell_type": "code",
   "execution_count": 4,
   "metadata": {},
   "outputs": [
    {
     "name": "stdout",
     "output_type": "stream",
     "text": [
      "Возраст програмистов с макисмальной з.п.:  16.03.1986\n"
     ]
    }
   ],
   "source": [
    "print('Возраст програмистов с макисмальной з.п.: ', ruble_wage.groupby(['Дата рождения'])['З/п в валюте найма'].max().sort_values(ascending=False).index[0])"
   ]
  },
  {
   "cell_type": "markdown",
   "metadata": {},
   "source": [
    "**Определите зарплаты работников, у которых в названии вакансии встречается слово Engineer**"
   ]
  },
  {
   "cell_type": "code",
   "execution_count": 5,
   "metadata": {},
   "outputs": [
    {
     "data": {
      "text/html": [
       "<div>\n",
       "<style scoped>\n",
       "    .dataframe tbody tr th:only-of-type {\n",
       "        vertical-align: middle;\n",
       "    }\n",
       "\n",
       "    .dataframe tbody tr th {\n",
       "        vertical-align: top;\n",
       "    }\n",
       "\n",
       "    .dataframe thead th {\n",
       "        text-align: right;\n",
       "    }\n",
       "</style>\n",
       "<table border=\"1\" class=\"dataframe\">\n",
       "  <thead>\n",
       "    <tr style=\"text-align: right;\">\n",
       "      <th></th>\n",
       "      <th>Вакансия</th>\n",
       "      <th>З/п в валюте найма</th>\n",
       "    </tr>\n",
       "  </thead>\n",
       "  <tbody>\n",
       "    <tr>\n",
       "      <td>4</td>\n",
       "      <td>QA Automation Engineer</td>\n",
       "      <td>172 413,00 ₽</td>\n",
       "    </tr>\n",
       "    <tr>\n",
       "      <td>9</td>\n",
       "      <td>Java Engineer</td>\n",
       "      <td>9 500,00 zł</td>\n",
       "    </tr>\n",
       "    <tr>\n",
       "      <td>11</td>\n",
       "      <td>.NET Engineer</td>\n",
       "      <td>12 000,00 zł</td>\n",
       "    </tr>\n",
       "    <tr>\n",
       "      <td>12</td>\n",
       "      <td>JavaScript Engineer</td>\n",
       "      <td>10 500,00 zł</td>\n",
       "    </tr>\n",
       "    <tr>\n",
       "      <td>13</td>\n",
       "      <td>Software Engineer</td>\n",
       "      <td>9 500,00 zł</td>\n",
       "    </tr>\n",
       "    <tr>\n",
       "      <td>18</td>\n",
       "      <td>Senior Software Engineer</td>\n",
       "      <td>200 000,00 ₽</td>\n",
       "    </tr>\n",
       "    <tr>\n",
       "      <td>19</td>\n",
       "      <td>QA Engineer</td>\n",
       "      <td>135 000,00 ₽</td>\n",
       "    </tr>\n",
       "    <tr>\n",
       "      <td>37</td>\n",
       "      <td>JavaScript Engineer</td>\n",
       "      <td>13 000,00 zł</td>\n",
       "    </tr>\n",
       "    <tr>\n",
       "      <td>38</td>\n",
       "      <td>Senior Software Engineer</td>\n",
       "      <td>lev6 446,00</td>\n",
       "    </tr>\n",
       "    <tr>\n",
       "      <td>39</td>\n",
       "      <td>Test Automation Engineer</td>\n",
       "      <td>Ft650 000,00</td>\n",
       "    </tr>\n",
       "    <tr>\n",
       "      <td>54</td>\n",
       "      <td>.NET Engineer</td>\n",
       "      <td>80 000,00 Kč</td>\n",
       "    </tr>\n",
       "  </tbody>\n",
       "</table>\n",
       "</div>"
      ],
      "text/plain": [
       "                     Вакансия З/п в валюте найма\n",
       "4      QA Automation Engineer       172 413,00 ₽\n",
       "9               Java Engineer        9 500,00 zł\n",
       "11              .NET Engineer       12 000,00 zł\n",
       "12        JavaScript Engineer       10 500,00 zł\n",
       "13          Software Engineer        9 500,00 zł\n",
       "18   Senior Software Engineer       200 000,00 ₽\n",
       "19                QA Engineer       135 000,00 ₽\n",
       "37        JavaScript Engineer       13 000,00 zł\n",
       "38   Senior Software Engineer        lev6 446,00\n",
       "39   Test Automation Engineer       Ft650 000,00\n",
       "54              .NET Engineer       80 000,00 Kč"
      ]
     },
     "execution_count": 5,
     "metadata": {},
     "output_type": "execute_result"
    }
   ],
   "source": [
    "df[df['Вакансия'].str.contains('Engineer')][['Вакансия','З/п в валюте найма']]"
   ]
  }
 ],
 "metadata": {
  "kernelspec": {
   "display_name": "Python 3",
   "language": "python",
   "name": "python3"
  },
  "language_info": {
   "codemirror_mode": {
    "name": "ipython",
    "version": 3
   },
   "file_extension": ".py",
   "mimetype": "text/x-python",
   "name": "python",
   "nbconvert_exporter": "python",
   "pygments_lexer": "ipython3",
   "version": "3.7.4"
  }
 },
 "nbformat": 4,
 "nbformat_minor": 4
}
