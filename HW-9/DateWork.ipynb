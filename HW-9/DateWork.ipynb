{
 "cells": [
  {
   "cell_type": "markdown",
   "metadata": {},
   "source": [
    "**Задание 1**"
   ]
  },
  {
   "cell_type": "markdown",
   "metadata": {},
   "source": [
    "С помощью метода datetime.strptime переведите строку 'May 9 2017 9:00AM' в формат datetime.\n",
    "Выделите и запишите номер часа в этой дате (в виде целого числа). Подсказка: у обозначения месяца May формат %b, у AM - %p"
   ]
  },
  {
   "cell_type": "code",
   "execution_count": null,
   "metadata": {},
   "outputs": [],
   "source": [
    "from datetime import datetime, timedelta\n",
    "date = 'May 9 2017 9:00AM'\n",
    "datet = datetime.strptime(date, '%b %d %Y %I:%M%p')\n",
    "datet.hour"
   ]
  },
  {
   "cell_type": "markdown",
   "metadata": {},
   "source": [
    "**Задание 2**"
   ]
  },
  {
   "cell_type": "markdown",
   "metadata": {},
   "source": [
    "Возьмите дату из прошлого шага 'May 9 2017 9:00AM', переведите в формат datetime и прибавьте к ней час с помощью timedelta.\n",
    "Какой результат будет на экране в формате datetime? Ответ должен иметь вид datetime.datetime(...)"
   ]
  },
  {
   "cell_type": "code",
   "execution_count": null,
   "metadata": {},
   "outputs": [],
   "source": [
    "datet += timedelta(hours=1)\n",
    "datet"
   ]
  },
  {
   "cell_type": "markdown",
   "metadata": {},
   "source": [
    "**Задание 3**"
   ]
  },
  {
   "cell_type": "markdown",
   "metadata": {},
   "source": [
    "Возьмите результат прошлого упражнения (прибавление часа к 9 мая) и запишите результат в формате '%Y-%m-%d'. Какой будет результат?"
   ]
  },
  {
   "cell_type": "code",
   "execution_count": null,
   "metadata": {},
   "outputs": [],
   "source": [
    "string_date = datet.strftime('%Y-%m-%d')\n",
    "print(string_date)"
   ]
  },
  {
   "cell_type": "markdown",
   "metadata": {},
   "source": [
    "**Задание 4**"
   ]
  },
  {
   "cell_type": "markdown",
   "metadata": {},
   "source": [
    "Напишите алгоритм, который «пробегает» период 1 до 3 января включительно по часам. Формат вывода '%Y-%m-%d %H:%M:%S'.\n",
    "Какое значение будет последним для 2 января (т. е. 23 часа 2 января)? Результат должен иметь формат %Y-%m-%d %H:%M:%S"
   ]
  },
  {
   "cell_type": "code",
   "execution_count": null,
   "metadata": {},
   "outputs": [],
   "source": [
    "start = '2020-1-1 00:00:00'\n",
    "end = '2020-1-3 23:00:00'\n",
    "start_datet = datetime.strptime(start, '%Y-%m-%d %H:%M:%S')\n",
    "end_datet = datetime.strptime(end, '%Y-%m-%d %H:%M:%S')\n",
    "res_list = []\n",
    "while start_datet <= end_datet:\n",
    "    res_list.append(start_datet.strftime('%Y-%m-%d %H:%M:%S'))\n",
    "    start_datet += timedelta(hours=1)\n",
    "print('Последним значением для 2 января будет: ', res_list[47])"
   ]
  },
  {
   "cell_type": "markdown",
   "metadata": {},
   "source": [
    "**ЗАДАНИЕ**"
   ]
  },
  {
   "cell_type": "markdown",
   "metadata": {},
   "source": [
    "Для завершения подсчета lifetime вам необходимо сделать следующее:\n",
    "Сгруппировать датафрейм data по столбцу user_id, посчитав для столбца unixtime максимальное и минимальное значение для каждого пользователя.\n",
    "Посчитать столбец diff с разностью максимального и минимального значения столбца unixtime из пункта 1.\n",
    "Исключить из расчета пользователей, у которых разница diff равна 0.\n",
    "Посчитать среднее значение столбца diff после фильтрации.\n",
    "Вы получите ответ в секундах. Пересчитайте его в количество дней.\n",
    "Каково значение lifetime в днях? Результат округлите до первого знака после запятой."
   ]
  },
  {
   "cell_type": "code",
   "execution_count": 5,
   "metadata": {},
   "outputs": [],
   "source": [
    "from datetime import datetime\n",
    "import pandas as pd\n",
    "data = pd.read_csv('https://raw.githubusercontent.com/dm-fedorov/pandas_basic/master/data/data.tsv', sep='\\t')\n",
    "def convert_to_datetime(row):\n",
    "    return datetime.strptime(row['date'], '%d.%m.%Y %H:%M')\n",
    "data['datetime'] = data.apply(convert_to_datetime, axis=1)\n",
    "import time\n",
    "def make_unix_time(row):\n",
    "    return time.mktime(row['datetime'].timetuple())\n",
    "data['unixtime'] = data.apply(make_unix_time, axis=1)\n",
    "df = data.groupby(['user_id'])['unixtime'].agg(['min','max']) #группировка\n",
    "def dia(row):\n",
    "    return row['max'] - row['min']\n",
    "df['diff'] = df.apply(dia, axis = 1) #посчитать столбец diff с разностью максимального и минимального значения столбца unixtime\n",
    "df = df[df['diff'] != 0] #исключение пользователей"
   ]
  },
  {
   "cell_type": "code",
   "execution_count": 6,
   "metadata": {},
   "outputs": [
    {
     "name": "stdout",
     "output_type": "stream",
     "text": [
      "Среднее значение столбца diff после фильтрации в секундах:  301143.21428571426\n",
      "Его количество дней:  3.5\n"
     ]
    }
   ],
   "source": [
    "D_mean = df['diff'].mean() #среднее значение после фильтрации\n",
    "print('Среднее значение столбца diff после фильтрации в секундах: ', D_mean)\n",
    "print('Его количество дней: ', round(D_mean/(3600*24),1))"
   ]
  }
 ],
 "metadata": {
  "kernelspec": {
   "display_name": "Python 3",
   "language": "python",
   "name": "python3"
  },
  "language_info": {
   "codemirror_mode": {
    "name": "ipython",
    "version": 3
   },
   "file_extension": ".py",
   "mimetype": "text/x-python",
   "name": "python",
   "nbconvert_exporter": "python",
   "pygments_lexer": "ipython3",
   "version": "3.7.4"
  }
 },
 "nbformat": 4,
 "nbformat_minor": 4
}
