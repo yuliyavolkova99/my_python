{
 "cells": [
  {
   "cell_type": "markdown",
   "metadata": {},
   "source": [
    "**Задание 1**"
   ]
  },
  {
   "cell_type": "markdown",
   "metadata": {},
   "source": [
    "Определите распределение зарплат в компании Тинькофф по сведениям сайта hh"
   ]
  },
  {
   "cell_type": "code",
   "execution_count": 1,
   "metadata": {},
   "outputs": [],
   "source": [
    "import pandas as pd\n",
    "import json\n",
    "with open('data.txt', encoding='utf8') as data:\n",
    "    file = data.readlines()\n",
    "lst = [json.loads(x) for x in file if 'index' not in x]\n",
    "df = pd.DataFrame(lst)"
   ]
  },
  {
   "cell_type": "code",
   "execution_count": 2,
   "metadata": {},
   "outputs": [
    {
     "data": {
      "text/html": [
       "<div>\n",
       "<style scoped>\n",
       "    .dataframe tbody tr th:only-of-type {\n",
       "        vertical-align: middle;\n",
       "    }\n",
       "\n",
       "    .dataframe tbody tr th {\n",
       "        vertical-align: top;\n",
       "    }\n",
       "\n",
       "    .dataframe thead th {\n",
       "        text-align: right;\n",
       "    }\n",
       "</style>\n",
       "<table border=\"1\" class=\"dataframe\">\n",
       "  <thead>\n",
       "    <tr style=\"text-align: right;\">\n",
       "      <th></th>\n",
       "      <th>vacancy</th>\n",
       "      <th>income</th>\n",
       "      <th>region</th>\n",
       "    </tr>\n",
       "  </thead>\n",
       "  <tbody>\n",
       "    <tr>\n",
       "      <td>1740</td>\n",
       "      <td>Координатор в тренинг-центр</td>\n",
       "      <td>до 40 000 руб.</td>\n",
       "      <td>Москва</td>\n",
       "    </tr>\n",
       "    <tr>\n",
       "      <td>1371</td>\n",
       "      <td>Младший специалист кадрового делопроизводства</td>\n",
       "      <td>до 41 000 руб.</td>\n",
       "      <td>Москва</td>\n",
       "    </tr>\n",
       "    <tr>\n",
       "      <td>1528</td>\n",
       "      <td>Тренер группы обучения</td>\n",
       "      <td>до 55 000 руб.</td>\n",
       "      <td>Нижний Новгород</td>\n",
       "    </tr>\n",
       "    <tr>\n",
       "      <td>1551</td>\n",
       "      <td>Тренер группы обучения</td>\n",
       "      <td>до 55 000 руб.</td>\n",
       "      <td>Липецк</td>\n",
       "    </tr>\n",
       "    <tr>\n",
       "      <td>1553</td>\n",
       "      <td>Тренер группы обучения</td>\n",
       "      <td>до 55 000 руб.</td>\n",
       "      <td>Тольятти</td>\n",
       "    </tr>\n",
       "    <tr>\n",
       "      <td>...</td>\n",
       "      <td>...</td>\n",
       "      <td>...</td>\n",
       "      <td>...</td>\n",
       "    </tr>\n",
       "    <tr>\n",
       "      <td>490</td>\n",
       "      <td>Руководитель группы по привлечению корпоративн...</td>\n",
       "      <td>от 90 000 руб.</td>\n",
       "      <td>Кемерово</td>\n",
       "    </tr>\n",
       "    <tr>\n",
       "      <td>491</td>\n",
       "      <td>Руководитель группы по привлечению корпоративн...</td>\n",
       "      <td>от 90 000 руб.</td>\n",
       "      <td>Калуга</td>\n",
       "    </tr>\n",
       "    <tr>\n",
       "      <td>492</td>\n",
       "      <td>Руководитель группы по привлечению корпоративн...</td>\n",
       "      <td>от 90 000 руб.</td>\n",
       "      <td>Саратов</td>\n",
       "    </tr>\n",
       "    <tr>\n",
       "      <td>1502</td>\n",
       "      <td>Руководитель группы по привлечению корпоративн...</td>\n",
       "      <td>от 90 000 руб.</td>\n",
       "      <td>Киров</td>\n",
       "    </tr>\n",
       "    <tr>\n",
       "      <td>767</td>\n",
       "      <td>Руководитель группы по привлечению корпоративн...</td>\n",
       "      <td>от 90 000 руб.</td>\n",
       "      <td>Липецк</td>\n",
       "    </tr>\n",
       "  </tbody>\n",
       "</table>\n",
       "<p>1175 rows × 3 columns</p>\n",
       "</div>"
      ],
      "text/plain": [
       "                                                vacancy           income  \\\n",
       "1740                        Координатор в тренинг-центр   до 40 000 руб.   \n",
       "1371      Младший специалист кадрового делопроизводства   до 41 000 руб.   \n",
       "1528                             Тренер группы обучения   до 55 000 руб.   \n",
       "1551                             Тренер группы обучения   до 55 000 руб.   \n",
       "1553                             Тренер группы обучения   до 55 000 руб.   \n",
       "...                                                 ...              ...   \n",
       "490   Руководитель группы по привлечению корпоративн...   от 90 000 руб.   \n",
       "491   Руководитель группы по привлечению корпоративн...   от 90 000 руб.   \n",
       "492   Руководитель группы по привлечению корпоративн...   от 90 000 руб.   \n",
       "1502  Руководитель группы по привлечению корпоративн...   от 90 000 руб.   \n",
       "767   Руководитель группы по привлечению корпоративн...   от 90 000 руб.   \n",
       "\n",
       "               region  \n",
       "1740           Москва  \n",
       "1371           Москва  \n",
       "1528  Нижний Новгород  \n",
       "1551           Липецк  \n",
       "1553         Тольятти  \n",
       "...               ...  \n",
       "490          Кемерово  \n",
       "491            Калуга  \n",
       "492           Саратов  \n",
       "1502            Киров  \n",
       "767            Липецк  \n",
       "\n",
       "[1175 rows x 3 columns]"
      ]
     },
     "execution_count": 2,
     "metadata": {},
     "output_type": "execute_result"
    }
   ],
   "source": [
    "VacancyWage = df[[\"vacancy\",\"income\",\"region\"]][df[\"income\"] != \"не указан\"].drop_duplicates().sort_values(by = 'income')\n",
    "VacancyWage"
   ]
  },
  {
   "cell_type": "code",
   "execution_count": 3,
   "metadata": {},
   "outputs": [
    {
     "data": {
      "text/plain": [
       "Агент по доставке продуктов Тинькофф                           156\n",
       "Представитель Тинькофф                                         109\n",
       "Консультант по работе с клиентами                               48\n",
       "Представитель Тинькофф Банка                                    47\n",
       "Специалист по развитию агентской сети                           41\n",
       "                                                              ... \n",
       "Продавец-консультант в ТРЦ Мега Тёплый Стан                      1\n",
       "Менеджер страхования                                             1\n",
       "Менеджер по привлечению партнеров                                1\n",
       "Специалист проверки надежности клиентов (отдел верификации)      1\n",
       "Менеджер по продажам в офисе (юридические лица)                  1\n",
       "Name: vacancy, Length: 175, dtype: int64"
      ]
     },
     "execution_count": 3,
     "metadata": {},
     "output_type": "execute_result"
    }
   ],
   "source": [
    "VacancyWage[\"vacancy\"].value_counts()"
   ]
  },
  {
   "cell_type": "markdown",
   "metadata": {},
   "source": [
    "**Задание 2**"
   ]
  },
  {
   "cell_type": "markdown",
   "metadata": {},
   "source": [
    "Провести анализ частоты запросов к сайту по версии Яндекс.Метрики:"
   ]
  },
  {
   "cell_type": "code",
   "execution_count": 4,
   "metadata": {},
   "outputs": [
    {
     "data": {
      "text/html": [
       "<div>\n",
       "<style scoped>\n",
       "    .dataframe tbody tr th:only-of-type {\n",
       "        vertical-align: middle;\n",
       "    }\n",
       "\n",
       "    .dataframe tbody tr th {\n",
       "        vertical-align: top;\n",
       "    }\n",
       "\n",
       "    .dataframe thead th {\n",
       "        text-align: right;\n",
       "    }\n",
       "</style>\n",
       "<table border=\"1\" class=\"dataframe\">\n",
       "  <thead>\n",
       "    <tr style=\"text-align: right;\">\n",
       "      <th></th>\n",
       "      <th>Поисковая фраза</th>\n",
       "      <th>Поисковая система</th>\n",
       "      <th>Визиты</th>\n",
       "      <th>Посетители</th>\n",
       "      <th>Отказы</th>\n",
       "      <th>Глубина просмотра</th>\n",
       "      <th>Время на сайте</th>\n",
       "    </tr>\n",
       "  </thead>\n",
       "  <tbody>\n",
       "    <tr>\n",
       "      <td>0</td>\n",
       "      <td>Итого и средние</td>\n",
       "      <td>NaN</td>\n",
       "      <td>72394</td>\n",
       "      <td>57803</td>\n",
       "      <td>0.120328</td>\n",
       "      <td>1.298934</td>\n",
       "      <td>00:01:18</td>\n",
       "    </tr>\n",
       "    <tr>\n",
       "      <td>1</td>\n",
       "      <td>pycode.ru</td>\n",
       "      <td>Яндекс</td>\n",
       "      <td>2068</td>\n",
       "      <td>1225</td>\n",
       "      <td>0.093810</td>\n",
       "      <td>1.674565</td>\n",
       "      <td>00:01:38</td>\n",
       "    </tr>\n",
       "    <tr>\n",
       "      <td>2</td>\n",
       "      <td>холопов алексей васильевич</td>\n",
       "      <td>Яндекс</td>\n",
       "      <td>1240</td>\n",
       "      <td>467</td>\n",
       "      <td>0.082258</td>\n",
       "      <td>1.941129</td>\n",
       "      <td>00:03:53</td>\n",
       "    </tr>\n",
       "    <tr>\n",
       "      <td>3</td>\n",
       "      <td>золотое правило дидактики</td>\n",
       "      <td>Яндекс</td>\n",
       "      <td>778</td>\n",
       "      <td>751</td>\n",
       "      <td>0.082262</td>\n",
       "      <td>1.087404</td>\n",
       "      <td>00:00:41</td>\n",
       "    </tr>\n",
       "    <tr>\n",
       "      <td>4</td>\n",
       "      <td>золотое правило дидактики я.а коменского</td>\n",
       "      <td>Яндекс</td>\n",
       "      <td>743</td>\n",
       "      <td>724</td>\n",
       "      <td>0.068641</td>\n",
       "      <td>1.044415</td>\n",
       "      <td>00:00:31</td>\n",
       "    </tr>\n",
       "  </tbody>\n",
       "</table>\n",
       "</div>"
      ],
      "text/plain": [
       "                            Поисковая фраза Поисковая система  Визиты  \\\n",
       "0                           Итого и средние               NaN   72394   \n",
       "1                                 pycode.ru            Яндекс    2068   \n",
       "2                холопов алексей васильевич            Яндекс    1240   \n",
       "3                 золотое правило дидактики            Яндекс     778   \n",
       "4  золотое правило дидактики я.а коменского            Яндекс     743   \n",
       "\n",
       "   Посетители    Отказы  Глубина просмотра Время на сайте  \n",
       "0       57803  0.120328           1.298934       00:01:18  \n",
       "1        1225  0.093810           1.674565       00:01:38  \n",
       "2         467  0.082258           1.941129       00:03:53  \n",
       "3         751  0.082262           1.087404       00:00:41  \n",
       "4         724  0.068641           1.044415       00:00:31  "
      ]
     },
     "execution_count": 4,
     "metadata": {},
     "output_type": "execute_result"
    }
   ],
   "source": [
    "import pandas as pd\n",
    "import pymorphy2\n",
    "import ssl\n",
    "ssl._create_default_https_context = ssl._create_unverified_context\n",
    "url = \"https://raw.githubusercontent.com/dm-fedorov/pandas_basic/master/data/data_stat/yandex-stat-q.csv\"\n",
    "mAnaliz = pymorphy2.MorphAnalyzer()\n",
    "df = pd.read_csv(url)\n",
    "df.head()"
   ]
  },
  {
   "cell_type": "markdown",
   "metadata": {},
   "source": [
    "Определите статистику встречаемости отдельных слов в поисковых фразах"
   ]
  },
  {
   "cell_type": "code",
   "execution_count": 5,
   "metadata": {},
   "outputs": [
    {
     "name": "stdout",
     "output_type": "stream",
     "text": [
      "Слова, которые встречаются более 1000 раз:\n",
      " тезис             6848\n",
      "в                 6048\n",
      "на                4974\n",
      "конференция       4726\n",
      "по                4234\n",
      "научный           3992\n",
      "как               3746\n",
      "работа            3345\n",
      "для               3093\n",
      "и                 3080\n",
      "информационный    3040\n",
      "пример            2991\n",
      "безопасность      2721\n",
      "к                 2518\n",
      "правило           1906\n",
      "практика          1829\n",
      "что               1730\n",
      "доклад            1586\n",
      "статья            1463\n",
      "о                 1461\n",
      "золотой           1442\n",
      "отчёт             1344\n",
      "дидактика         1148\n",
      "кейс              1125\n",
      "какой             1080\n",
      "студент           1047\n",
      "с                 1030\n",
      "выступление       1005\n",
      "dtype: int64\n"
     ]
    }
   ],
   "source": [
    "from matplotlib import pyplot as plt\n",
    "%matplotlib inline\n",
    "lst = [j for i, j in enumerate(df[\"Поисковая фраза\"].str.lower())]\n",
    "spltlst = list(map(lambda x: x.split(), lst))\n",
    "clist = [mAnaliz.parse(x)[0].normal_form for sl in spltlst for x in sl]\n",
    "exp = pd.Series(clist)\n",
    "print('Слова, которые встречаются более 1000 раз:\\n',exp.value_counts()[exp.value_counts()>1000])"
   ]
  }
 ],
 "metadata": {
  "kernelspec": {
   "display_name": "Python 3",
   "language": "python",
   "name": "python3"
  },
  "language_info": {
   "codemirror_mode": {
    "name": "ipython",
    "version": 3
   },
   "file_extension": ".py",
   "mimetype": "text/x-python",
   "name": "python",
   "nbconvert_exporter": "python",
   "pygments_lexer": "ipython3",
   "version": "3.7.4"
  }
 },
 "nbformat": 4,
 "nbformat_minor": 4
}
