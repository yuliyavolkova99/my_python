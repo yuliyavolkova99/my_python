{
 "cells": [
  {
   "cell_type": "code",
   "execution_count": null,
   "metadata": {},
   "outputs": [],
   "source": [
    "a = '''В разные эпохи и у разных народов число Пи имело разное значение.\n",
    "Например, в Древнем Египте оно равнялось 3.1604 у индусов оно приобрело\n",
    "значение 3.162 китайцы пользовались числом, равным 3.1459\n",
    "Буквенное обозначение число Пи получило только в 1706 году – оно происходит\n",
    "от начальных букв двух греческих слов, означающих окружность и периметр.\n",
    "Буквой π число наделил математик Джонс, а прочно вошла в математику она\n",
    "уже в 1737 году.'''\n",
    "\n",
    "def mynumber(y):\n",
    "    try:\n",
    "        float(y)\n",
    "        return True\n",
    "    except ValueError:\n",
    "        return False\n",
    "res = []\n",
    "n = 0\n",
    "sm = 0\n",
    "for i in a.split():\n",
    "    if i.isdigit():\n",
    "        res.append(int(i))\n",
    "        n += 1\n",
    "        sm += int(i)\n",
    "    elif mynumber(i):\n",
    "        res.append(float(i))\n",
    "        n += 1\n",
    "        sm += float(i)\n",
    "print('Числа: ', res ,'Количество чисел: ', n, 'Сумма чисел: ', sm, 'Самое большое число: ', max(res))"
   ]
  }
 ],
 "metadata": {
  "kernelspec": {
   "display_name": "Python 3",
   "language": "python",
   "name": "python3"
  },
  "language_info": {
   "codemirror_mode": {
    "name": "ipython",
    "version": 3
   },
   "file_extension": ".py",
   "mimetype": "text/x-python",
   "name": "python",
   "nbconvert_exporter": "python",
   "pygments_lexer": "ipython3",
   "version": "3.7.4"
  }
 },
 "nbformat": 4,
 "nbformat_minor": 4
}
