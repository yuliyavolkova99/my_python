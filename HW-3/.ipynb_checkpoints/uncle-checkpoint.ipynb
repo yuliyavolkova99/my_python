{
 "cells": [
  {
   "cell_type": "code",
   "execution_count": 1,
   "metadata": {},
   "outputs": [
    {
     "name": "stdout",
     "output_type": "stream",
     "text": [
      "Мой дядя самых честных правил, Когда не в шутку занемог, Он уважать себя заставил И лучше выдумать не\n"
     ]
    }
   ],
   "source": [
    "a = \"Мой дядя самых честных правил, \\\n",
    "Когда не в шутку занемог, \\\n",
    "Он уважать себя заставил \\\n",
    "И лучше выдумать не мог\"\n",
    "\n",
    "result = ' '.join(filter(lambda s: s[0] not in [\"м\"], a.split()))\n",
    "print(result)"
   ]
  },
  {
   "cell_type": "code",
   "execution_count": null,
   "metadata": {},
   "outputs": [],
   "source": []
  }
 ],
 "metadata": {
  "kernelspec": {
   "display_name": "Python 3",
   "language": "python",
   "name": "python3"
  },
  "language_info": {
   "codemirror_mode": {
    "name": "ipython",
    "version": 3
   },
   "file_extension": ".py",
   "mimetype": "text/x-python",
   "name": "python",
   "nbconvert_exporter": "python",
   "pygments_lexer": "ipython3",
   "version": "3.7.4"
  }
 },
 "nbformat": 4,
 "nbformat_minor": 4
}
