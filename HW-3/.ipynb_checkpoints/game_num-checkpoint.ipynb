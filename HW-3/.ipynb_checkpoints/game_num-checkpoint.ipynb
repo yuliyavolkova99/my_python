{
 "cells": [
  {
   "cell_type": "code",
   "execution_count": null,
   "metadata": {},
   "outputs": [],
   "source": [
    "import random\n",
    "print('Компьютер загадал число от 1 до 10')\n",
    "print('У вас есть 3 попытки. Удачи!')\n",
    "i = 1\n",
    "while i <= 3:\n",
    "    a = random.randint(1,10)\n",
    "    b = int(input('Попробуйте угадать: '))\n",
    "    if a == b:\n",
    "        print ('Победа!')\n",
    "        break\n",
    "    elif a > b:\n",
    "        i = i+1\n",
    "        print ('Попробуйте число больше!')\n",
    "    else:\n",
    "        i = i+1\n",
    "        print ('Попробуйте число меньше!')\n",
    "else:\n",
    "    print('Попытки исчерпаны!')"
   ]
  }
 ],
 "metadata": {
  "kernelspec": {
   "display_name": "Python 3",
   "language": "python",
   "name": "python3"
  },
  "language_info": {
   "codemirror_mode": {
    "name": "ipython",
    "version": 3
   },
   "file_extension": ".py",
   "mimetype": "text/x-python",
   "name": "python",
   "nbconvert_exporter": "python",
   "pygments_lexer": "ipython3",
   "version": "3.7.4"
  }
 },
 "nbformat": 4,
 "nbformat_minor": 4
}
