{
 "cells": [
  {
   "cell_type": "code",
   "execution_count": null,
   "metadata": {},
   "outputs": [
    {
     "name": "stdout",
     "output_type": "stream",
     "text": [
      "Простой todo: \n",
      "    1. Добавить задачу.\n",
      "    2. Вывести список задач.\n",
      "    3. Выход.\n"
     ]
    }
   ],
   "source": [
    "print('''Простой todo: \n",
    "    1. Добавить задачу.\n",
    "    2. Вывести список задач.\n",
    "    3. Выход.''')\n",
    "a = int(input(\"Укажите число: \"))\n",
    "b = []\n",
    "while a != 3:\n",
    "    if a == 1:\n",
    "        task = \"Задача: \" + input(\"Задача: \\n\") + \" Категория: \" + input(\"Категория выполнения: \\n\") + \"Дата: \" + input(\"Дата выполнения: \\n\")\n",
    "        b.append(task)\n",
    "    if a == 2:\n",
    "        print(b)\n",
    "    print('''Простой todo: \n",
    "    1. Добавить задачу.\n",
    "    2. Вывести список задач.\n",
    "    3. Выход.''')\n",
    "    a = int(input(\"Укажите число: \"))"
   ]
  },
  {
   "cell_type": "code",
   "execution_count": null,
   "metadata": {},
   "outputs": [],
   "source": []
  }
 ],
 "metadata": {
  "kernelspec": {
   "display_name": "Python 3",
   "language": "python",
   "name": "python3"
  },
  "language_info": {
   "codemirror_mode": {
    "name": "ipython",
    "version": 3
   },
   "file_extension": ".py",
   "mimetype": "text/x-python",
   "name": "python",
   "nbconvert_exporter": "python",
   "pygments_lexer": "ipython3",
   "version": "3.7.4"
  }
 },
 "nbformat": 4,
 "nbformat_minor": 4
}
