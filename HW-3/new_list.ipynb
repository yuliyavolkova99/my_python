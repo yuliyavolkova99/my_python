{
 "cells": [
  {
   "cell_type": "code",
   "execution_count": 1,
   "metadata": {},
   "outputs": [
    {
     "name": "stdout",
     "output_type": "stream",
     "text": [
      "1.4142135623730951 2.0 3.0 4.0 5.0 \n",
      " [1.4142135623730951, 2.0, 3.0, 4.0, 5.0]\n",
      "[1.4142135623730951, 2.0, 3.0, 4.0, 5.0]\n"
     ]
    }
   ],
   "source": [
    "from math import sqrt \n",
    "a = [2, 4, 9, 16, 25]\n",
    "\n",
    "# на основе цикла for\n",
    "for i in a:\n",
    "    print(sqrt(i), end = ' ')\n",
    "\n",
    "# на основе функции map\n",
    "print('\\n',list(map((lambda i: sqrt(i)),a)))\n",
    "\n",
    "# в виде генератора списка\n",
    "print([sqrt(i) for i in a])"
   ]
  },
  {
   "cell_type": "code",
   "execution_count": null,
   "metadata": {},
   "outputs": [],
   "source": []
  }
 ],
 "metadata": {
  "kernelspec": {
   "display_name": "Python 3",
   "language": "python",
   "name": "python3"
  },
  "language_info": {
   "codemirror_mode": {
    "name": "ipython",
    "version": 3
   },
   "file_extension": ".py",
   "mimetype": "text/x-python",
   "name": "python",
   "nbconvert_exporter": "python",
   "pygments_lexer": "ipython3",
   "version": "3.7.4"
  }
 },
 "nbformat": 4,
 "nbformat_minor": 4
}
