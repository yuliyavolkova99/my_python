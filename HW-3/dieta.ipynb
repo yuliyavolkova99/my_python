{
 "cells": [
  {
   "cell_type": "code",
   "execution_count": null,
   "metadata": {},
   "outputs": [],
   "source": [
    "weight=float(input('Сколько Вы сейчас весите: '))\n",
    "a = weight\n",
    "b = []\n",
    "for i in range(1,7):\n",
    "    a = a-1.5\n",
    "    b.append(str(i)+ \"месяц: \" +str(a))\n",
    "print('Как будет уменьшаться Ваш вес по месяцам: ', b)"
   ]
  }
 ],
 "metadata": {
  "kernelspec": {
   "display_name": "Python 3",
   "language": "python",
   "name": "python3"
  },
  "language_info": {
   "codemirror_mode": {
    "name": "ipython",
    "version": 3
   },
   "file_extension": ".py",
   "mimetype": "text/x-python",
   "name": "python",
   "nbconvert_exporter": "python",
   "pygments_lexer": "ipython3",
   "version": "3.7.4"
  }
 },
 "nbformat": 4,
 "nbformat_minor": 4
}
