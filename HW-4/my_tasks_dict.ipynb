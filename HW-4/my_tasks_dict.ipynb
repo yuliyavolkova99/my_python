{
 "cells": [
  {
   "cell_type": "code",
   "execution_count": null,
   "metadata": {},
   "outputs": [],
   "source": [
    "from pprint import pprint\n",
    "n = int(input('Простой todo:\\n1. Добавить задачу.\\n2. Вывести список задач.\\n3. Выход.\\n'))\n",
    "task = []\n",
    "appendtask = {}\n",
    "while  n != 3:\n",
    "    if n == 1:\n",
    "        appendtask['task'] = input('Сформулируйте задачу: ')\n",
    "        appendtask['category'] = input('Добавьте категорию к задаче: ')\n",
    "        appendtask['time'] = input('Добавьте время к задаче: ')\n",
    "        task.append(appendtask)\n",
    "    elif n == 2:\n",
    "        pprint(task)\n",
    "    print('Простой todo:\\n1. Добавить задачу.\\n2. Вывести список задач.\\n3. Выход.')\n",
    "    n = int(input())"
   ]
  },
  {
   "cell_type": "code",
   "execution_count": null,
   "metadata": {},
   "outputs": [],
   "source": []
  }
 ],
 "metadata": {
  "kernelspec": {
   "display_name": "Python 3",
   "language": "python",
   "name": "python3"
  },
  "language_info": {
   "codemirror_mode": {
    "name": "ipython",
    "version": 3
   },
   "file_extension": ".py",
   "mimetype": "text/x-python",
   "name": "python",
   "nbconvert_exporter": "python",
   "pygments_lexer": "ipython3",
   "version": "3.7.4"
  }
 },
 "nbformat": 4,
 "nbformat_minor": 4
}
