{
 "cells": [
  {
   "cell_type": "code",
   "execution_count": 4,
   "metadata": {},
   "outputs": [
    {
     "name": "stdout",
     "output_type": "stream",
     "text": [
      "Пепперони, моцарелла, томатный соус\n",
      "395\n",
      "545\n"
     ]
    }
   ],
   "source": [
    "pizza_menu = dict(\n",
    "    Пепперони = dict(\n",
    "            consist='Пепперони, моцарелла, томатный соус',\n",
    "            size_price=dict(S=395,M=545)\n",
    "    ),\n",
    "    Маргарита = dict(\n",
    "            consist='Томаты, моцарелла, томатный соус',\n",
    "            size_price=dict(S=395,M=545)\n",
    "    ),\n",
    "    Гавайская = dict(\n",
    "            consist='Курица, ветччина,ананас, моцарелла, томатный соус',\n",
    "            size_price=dict(S=395,M=545)\n",
    "    )\n",
    ")\n",
    "\n",
    "print(menu['Пепперони']['consist'])\n",
    "print(menu['Маргарита']['size_price']['S'])\n",
    "print(menu['Гавайская']['size_price']['M'])"
   ]
  },
  {
   "cell_type": "code",
   "execution_count": null,
   "metadata": {},
   "outputs": [],
   "source": []
  }
 ],
 "metadata": {
  "kernelspec": {
   "display_name": "Python 3",
   "language": "python",
   "name": "python3"
  },
  "language_info": {
   "codemirror_mode": {
    "name": "ipython",
    "version": 3
   },
   "file_extension": ".py",
   "mimetype": "text/x-python",
   "name": "python",
   "nbconvert_exporter": "python",
   "pygments_lexer": "ipython3",
   "version": "3.7.4"
  }
 },
 "nbformat": 4,
 "nbformat_minor": 4
}
