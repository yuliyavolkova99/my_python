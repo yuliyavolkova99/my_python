{
 "cells": [
  {
   "cell_type": "code",
   "execution_count": 1,
   "metadata": {},
   "outputs": [],
   "source": [
    "from random import randint\n",
    "\n",
    "def max_sequence(p):\n",
    "    \"\"\"\n",
    "    Функция ищет пять соседних элементов списка, сумма значений которых максимальна.\n",
    "    \n",
    "    >>> max_sequence([1, 3, 1, 1, 4, 4, 3, 1, 4, 4, 4, 3, 4, 4, 1, 3, 2, 4, 4, 4])\n",
    "    [4, 4, 4, 3, 4]\n",
    "    \n",
    "    >>> max_sequence([1, 5, 7, 2, 9, 2, 9, 2, 5, 3, 7, 6, 3, 3, 7, 4, 4, 1, 9, 5])\n",
    "    [7, 2, 9, 2, 9]\n",
    "    \"\"\"   \n",
    "    prep = [p[i:i+5] for i in range(0, len(p)-4)]\n",
    "    sums = list(map(sum, prep))\n",
    "    indexmax = sums.index(max(sums))\n",
    "    return prep[indexmax]\n",
    "\n",
    "if __name__ == '__main__':\n",
    "    import doctest\n",
    "    doctest.testmod()"
   ]
  }
 ],
 "metadata": {
  "kernelspec": {
   "display_name": "Python 3",
   "language": "python",
   "name": "python3"
  },
  "language_info": {
   "codemirror_mode": {
    "name": "ipython",
    "version": 3
   },
   "file_extension": ".py",
   "mimetype": "text/x-python",
   "name": "python",
   "nbconvert_exporter": "python",
   "pygments_lexer": "ipython3",
   "version": "3.7.4"
  }
 },
 "nbformat": 4,
 "nbformat_minor": 4
}
