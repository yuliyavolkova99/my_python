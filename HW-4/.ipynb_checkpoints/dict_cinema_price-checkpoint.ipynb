{
 "cells": [
  {
   "cell_type": "code",
   "execution_count": null,
   "metadata": {},
   "outputs": [],
   "source": [
    "from pprint import pprint\n",
    "\n",
    "cinema = {'Пятница':{'time_price': {12: 250, 16: 350, 20: 450},'genre': 'комедия', 'age': '16'},\n",
    " 'Чемпионы':{'time_price':{10: 250, 13: 350, 16: 350},'genre': 'спорт', 'age': '16'},\n",
    " 'Пернатая банда':{'time_price':{10: 350, 14: 450, 18: 450},'genre': 'мультфильм', 'age': '6'}}\n",
    "\n",
    "pprint(cinema)"
   ]
  }
 ],
 "metadata": {
  "kernelspec": {
   "display_name": "Python 3",
   "language": "python",
   "name": "python3"
  },
  "language_info": {
   "codemirror_mode": {
    "name": "ipython",
    "version": 3
   },
   "file_extension": ".py",
   "mimetype": "text/x-python",
   "name": "python",
   "nbconvert_exporter": "python",
   "pygments_lexer": "ipython3",
   "version": "3.7.4"
  }
 },
 "nbformat": 4,
 "nbformat_minor": 4
}
