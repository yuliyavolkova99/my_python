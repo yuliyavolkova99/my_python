{
 "cells": [
  {
   "cell_type": "code",
   "execution_count": null,
   "metadata": {},
   "outputs": [],
   "source": [
    "def writer(filename, numbers):\n",
    "    import json\n",
    "    try:\n",
    "        with open(filename, 'w') as f_obj:\n",
    "            json.dump(numbers, f_obj)\n",
    "    except Exception as e:\n",
    "        print(e)\n",
    "\n",
    "def reader(filename):\n",
    "    import json\n",
    "    try:\n",
    "        with open(filename) as f_obj:\n",
    "            numbers = json.load(f_obj)\n",
    "        return numbers\n",
    "    except Exception as e:\n",
    "        return e\n",
    "\n",
    "def instructions():\n",
    "    print('\\nПростой todo: \\n1. Добавить задачу. \\n2. Вывести список задач. \\n3. Выход.')\n",
    "\n",
    "command = 0\n",
    "todo = list()\n",
    "\n",
    "while command != 3:\n",
    "    instructions()\n",
    "    command = int(input('\\nУкажите число: '))\n",
    "    if command == 1:\n",
    "        new = {}\n",
    "        new['Task'] = input('СФормулируйте задачу: ')\n",
    "        new['Category'] = input('Добавьте категорию к задаче: ')\n",
    "        new['Date'] = input('Добавьте время к задаче: ')\n",
    "        todo.append(new)\n",
    "        writer('list_of_tasks.json', todo)\n",
    "    if command == 2:\n",
    "        print()\n",
    "        for task in todo:\n",
    "            print()\n",
    "            for option in task:\n",
    "                print(option, ':', task[option])\n",
    "        "
   ]
  },
  {
   "cell_type": "code",
   "execution_count": null,
   "metadata": {},
   "outputs": [],
   "source": []
  }
 ],
 "metadata": {
  "kernelspec": {
   "display_name": "Python 3",
   "language": "python",
   "name": "python3"
  },
  "language_info": {
   "codemirror_mode": {
    "name": "ipython",
    "version": 3
   },
   "file_extension": ".py",
   "mimetype": "text/x-python",
   "name": "python",
   "nbconvert_exporter": "python",
   "pygments_lexer": "ipython3",
   "version": "3.7.4"
  }
 },
 "nbformat": 4,
 "nbformat_minor": 4
}
