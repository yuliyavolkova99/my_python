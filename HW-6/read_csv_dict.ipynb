{
 "cells": [
  {
   "cell_type": "code",
   "execution_count": 9,
   "metadata": {},
   "outputs": [],
   "source": [
    "def read_csv_dict(file):\n",
    "    try:\n",
    "        with open(file) as kit_in:\n",
    "            lst=kit_in.readlines()\n",
    "            lst=list(map(lambda x: x.strip,lst))\n",
    "            lst=list(map(lambda x: x.split(\",\"),lst))\n",
    "            opt=[{lst[0][0]: lst[i][0] , lst[0][1]: lst[i][1], lst[0][2]: lst[i][2]} for i in lst[1::]]\n",
    "        return opt\n",
    "    except Exception as e:\n",
    "        print(e)"
   ]
  },
  {
   "cell_type": "code",
   "execution_count": null,
   "metadata": {},
   "outputs": [],
   "source": []
  }
 ],
 "metadata": {
  "kernelspec": {
   "display_name": "Python 3",
   "language": "python",
   "name": "python3"
  },
  "language_info": {
   "codemirror_mode": {
    "name": "ipython",
    "version": 3
   },
   "file_extension": ".py",
   "mimetype": "text/x-python",
   "name": "python",
   "nbconvert_exporter": "python",
   "pygments_lexer": "ipython3",
   "version": "3.7.4"
  }
 },
 "nbformat": 4,
 "nbformat_minor": 4
}
