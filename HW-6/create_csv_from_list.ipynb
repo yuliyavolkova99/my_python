{
 "cells": [
  {
   "cell_type": "code",
   "execution_count": 1,
   "metadata": {},
   "outputs": [],
   "source": [
    "import csv\n",
    "def make_csv(name, lst):\n",
    "    with open(name, 'w') as kit_in:\n",
    "        w = csv.writer(kit_in)\n",
    "        w.writerow(['name', 'address', 'age'])\n",
    "        for line in lst:\n",
    "            w.writerow(list(line))\n",
    "\n",
    "\n",
    "make_csv(\"create_csv_from_list.csv\", [('Георгий', 'Невский проспект', '22'), ('Иван', 'пр.Ветеранов', '21')])"
   ]
  },
  {
   "cell_type": "code",
   "execution_count": null,
   "metadata": {},
   "outputs": [],
   "source": []
  }
 ],
 "metadata": {
  "kernelspec": {
   "display_name": "Python 3",
   "language": "python",
   "name": "python3"
  },
  "language_info": {
   "codemirror_mode": {
    "name": "ipython",
    "version": 3
   },
   "file_extension": ".py",
   "mimetype": "text/x-python",
   "name": "python",
   "nbconvert_exporter": "python",
   "pygments_lexer": "ipython3",
   "version": "3.7.4"
  }
 },
 "nbformat": 4,
 "nbformat_minor": 4
}
