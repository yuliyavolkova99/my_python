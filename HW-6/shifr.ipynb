{
 "cells": [
  {
   "cell_type": "code",
   "execution_count": 1,
   "metadata": {},
   "outputs": [],
   "source": [
    "def encod(text):\n",
    "    try:\n",
    "        trantab=str.maketrans({\"A\" : \"%\" , \"a\" : \"9\" , \"B\" : \"@\", \"6\" : \"#\"})\n",
    "        with open(text,'r') as kit_in, open('encoding.txt','w') as kit_out:\n",
    "            t =reader.read()\n",
    "            tex =t.translate(trantab)\n",
    "            writer.write(tex)\n",
    "    except FileNotFoundError:\n",
    "        print(\"Файл для кодировки не найден\")"
   ]
  },
  {
   "cell_type": "code",
   "execution_count": 2,
   "metadata": {},
   "outputs": [],
   "source": [
    "def decod(text):\n",
    "    try:\n",
    "        trantab=str.maketrans({\"%\": \"A\", \"9\" :\"a\" , \"@\": \"B\",\"#\": \"6\"})\n",
    "        with open(text,\"r\") as kit_in, open('decoding.txt','w') as kit_out:\n",
    "            t = reader.read()\n",
    "            tex = t.translate(trantab)\n",
    "            writer.write(tex)\n",
    "    except FileNotFoundError:\n",
    "        print(\"Файл для декодировки не найден\")"
   ]
  }
 ],
 "metadata": {
  "kernelspec": {
   "display_name": "Python 3",
   "language": "python",
   "name": "python3"
  },
  "language_info": {
   "codemirror_mode": {
    "name": "ipython",
    "version": 3
   },
   "file_extension": ".py",
   "mimetype": "text/x-python",
   "name": "python",
   "nbconvert_exporter": "python",
   "pygments_lexer": "ipython3",
   "version": "3.7.4"
  }
 },
 "nbformat": 4,
 "nbformat_minor": 4
}
