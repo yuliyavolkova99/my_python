{
 "cells": [
  {
   "cell_type": "code",
   "execution_count": null,
   "metadata": {},
   "outputs": [],
   "source": [
    "import random\n",
    "a = ['Да, разумеется!','Вне всяких сомнений, да!','Можно рассчитывать, что да.',\n",
    "     'Наверняка.','Спросите меня позже.','Не уверен.','Прямо сейчас не готов сказать.',\n",
    "     'Расскажу после отдыха.','Никаких шансов.','Не думаю, что будет так.','Вне всяких сомнений, нет!',\n",
    "     'Совершенно очевидно, что нет!']\n",
    "b = random.choice(a)\n",
    "print('Добро пожаловать в игру!')\n",
    "print('''Игра: Волшебный шар: \n",
    "    1. Задать вопрос\n",
    "    2. Выйти из игры''')\n",
    "question = int(input('Выберите действие: '))\n",
    "\n",
    "while question != 2:\n",
    "    if question == 1:\n",
    "        f = str(input(\"Что Вы хотете узнать? Задайте вопрос таким образом, чтобы на него можно было ответить Да или Нет!\\n\"))\n",
    "        print(b)\n",
    "    print('''Игра: Волшебный шар : \n",
    "    1. Задать вопрос\n",
    "    2. Выйти из игры''')\n",
    "    question = int(input('Выберите действие: '))"
   ]
  },
  {
   "cell_type": "code",
   "execution_count": null,
   "metadata": {},
   "outputs": [],
   "source": []
  }
 ],
 "metadata": {
  "kernelspec": {
   "display_name": "Python 3",
   "language": "python",
   "name": "python3"
  },
  "language_info": {
   "codemirror_mode": {
    "name": "ipython",
    "version": 3
   },
   "file_extension": ".py",
   "mimetype": "text/x-python",
   "name": "python",
   "nbconvert_exporter": "python",
   "pygments_lexer": "ipython3",
   "version": "3.7.4"
  }
 },
 "nbformat": 4,
 "nbformat_minor": 4
}
