{
 "cells": [
  {
   "cell_type": "code",
   "execution_count": 19,
   "metadata": {},
   "outputs": [],
   "source": [
    "with open('moby.txt','r') as kit_in, open('moby_clean.txt','w') as kit_out:\n",
    "    lst = kit_in.readlines()\n",
    "    str = ''.join(lst)\n",
    "    str_lower = str.lower()\n",
    "    trantab = str_lower.maketrans(\"\", \"\", \",.!:;&?*''-)(\")\n",
    "    res = str_lower.translate(trantab)\n",
    "    kit_out.write(res.replace(' ', '\\n'))"
   ]
  },
  {
   "cell_type": "code",
   "execution_count": null,
   "metadata": {},
   "outputs": [],
   "source": []
  }
 ],
 "metadata": {
  "kernelspec": {
   "display_name": "Python 3",
   "language": "python",
   "name": "python3"
  },
  "language_info": {
   "codemirror_mode": {
    "name": "ipython",
    "version": 3
   },
   "file_extension": ".py",
   "mimetype": "text/x-python",
   "name": "python",
   "nbconvert_exporter": "python",
   "pygments_lexer": "ipython3",
   "version": "3.7.4"
  }
 },
 "nbformat": 4,
 "nbformat_minor": 4
}
