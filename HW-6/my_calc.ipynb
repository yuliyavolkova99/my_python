{
 "cells": [
  {
   "cell_type": "code",
   "execution_count": null,
   "metadata": {},
   "outputs": [],
   "source": [
    "while True:\n",
    "    try:\n",
    "        a = int(input('Введите первое число:\\n'))\n",
    "        b = int(input('Введите второе число:\\n'))\n",
    "    except ValueError:\n",
    "            print('Необходимо ввести числа\\n')\n",
    "    else:\n",
    "        break\n",
    "def my_calc(a,b):  \n",
    "    while True:\n",
    "        try:         \n",
    "            с = input('Выберите действие:\\nСложить\\nВычесть\\nУмножить\\nРазделить\\n')\n",
    "            if с == 'Сложить':\n",
    "                return a + b\n",
    "            if с == 'Вычесть':\n",
    "                return a - b\n",
    "            if с == 'Умножить':\n",
    "                return a * b\n",
    "            if с == 'Разделить':\n",
    "                return a / b\n",
    "            else:\n",
    "                return 'Неверный ввод команды. Попробуйте еще раз'\n",
    "        except WrongAction:\n",
    "            print('Неправильно выбрана команда')\n",
    "        except ZeroDivisionError:\n",
    "            print('На ноль делить нельзя')\n",
    "print(my_calc(a,b))"
   ]
  },
  {
   "cell_type": "code",
   "execution_count": null,
   "metadata": {},
   "outputs": [],
   "source": []
  }
 ],
 "metadata": {
  "kernelspec": {
   "display_name": "Python 3",
   "language": "python",
   "name": "python3"
  },
  "language_info": {
   "codemirror_mode": {
    "name": "ipython",
    "version": 3
   },
   "file_extension": ".py",
   "mimetype": "text/x-python",
   "name": "python",
   "nbconvert_exporter": "python",
   "pygments_lexer": "ipython3",
   "version": "3.7.4"
  }
 },
 "nbformat": 4,
 "nbformat_minor": 4
}
