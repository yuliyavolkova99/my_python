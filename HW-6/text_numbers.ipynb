{
 "cells": [
  {
   "cell_type": "code",
   "execution_count": 14,
   "metadata": {},
   "outputs": [],
   "source": [
    "def text_numbers(inp,out):\n",
    "    try:\n",
    "        with open('text_numbers.txt',\"r\") as kit_in, open('update_text.txt',\"w\") as kit_out:\n",
    "            lst= kit_in.readlines()\n",
    "            s = \" \".join([str(i+1)+\" \"+lst[i] for i in range(len(lst))])\n",
    "            kit_out.write(s)\n",
    "    except Exception as e:\n",
    "        print(e)\n",
    "text_numbers('text_numbers.txt','update_text.txt')"
   ]
  }
 ],
 "metadata": {
  "kernelspec": {
   "display_name": "Python 3",
   "language": "python",
   "name": "python3"
  },
  "language_info": {
   "codemirror_mode": {
    "name": "ipython",
    "version": 3
   },
   "file_extension": ".py",
   "mimetype": "text/x-python",
   "name": "python",
   "nbconvert_exporter": "python",
   "pygments_lexer": "ipython3",
   "version": "3.7.4"
  }
 },
 "nbformat": 4,
 "nbformat_minor": 4
}
