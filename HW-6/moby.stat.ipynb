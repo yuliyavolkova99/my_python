{
 "cells": [
  {
   "cell_type": "code",
   "execution_count": 100,
   "metadata": {},
   "outputs": [
    {
     "name": "stdout",
     "output_type": "stream",
     "text": [
      "Самые частые слова в главе:  [('не', 34), ('я', 35), ('на', 44), ('в', 73), ('и', 74)]\n",
      "Самые редкие слова в главе:  [('глава', 1), ('очертания', 1), ('проступают', 1), ('зовите', 1), ('измаил', 1)]\n"
     ]
    }
   ],
   "source": [
    "from collections import Counter\n",
    "with open('moby_clean.txt','r') as kit_in:\n",
    "    lst = kit_in.readlines()\n",
    "    lst = [line.rstrip() for line in lst]\n",
    "    w = {}\n",
    "    for word in lst:\n",
    "        w.setdefault(word, 0) \n",
    "        w[word] += 1  \n",
    "r = dict(w)\n",
    "w.keys()\n",
    "del w['']\n",
    "del w['i'] \n",
    "a = list(w.items())\n",
    "a.sort(key=lambda i: i[1])\n",
    "print('Самые частые слова в главе: ', a[-5:])\n",
    "print('Самые редкие слова в главе: ', a[:5])"
   ]
  }
 ],
 "metadata": {
  "kernelspec": {
   "display_name": "Python 3",
   "language": "python",
   "name": "python3"
  },
  "language_info": {
   "codemirror_mode": {
    "name": "ipython",
    "version": 3
   },
   "file_extension": ".py",
   "mimetype": "text/x-python",
   "name": "python",
   "nbconvert_exporter": "python",
   "pygments_lexer": "ipython3",
   "version": "3.7.4"
  }
 },
 "nbformat": 4,
 "nbformat_minor": 4
}
