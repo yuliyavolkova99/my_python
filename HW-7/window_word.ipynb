{
 "cells": [
  {
   "cell_type": "code",
   "execution_count": 14,
   "metadata": {},
   "outputs": [],
   "source": [
    "import tkinter\n",
    "from tkinter import messagebox as mb\n",
    "import random\n",
    " \n",
    "dictionary = {'dog': 'собака', 'fish': 'рыба', 'bird': 'птица'}\n",
    "randomword = random.choice(list(dictionary.keys()))\n",
    " \n",
    "window = tkinter.Tk()\n",
    "window.geometry('150x150')  \n",
    "\n",
    "def click():\n",
    "    word = dictionary.get(randomword)\n",
    "    if entry.get() == word:\n",
    "        res = 'Вы угадали!'\n",
    "        result.config(text = res)\n",
    "    elif entry.get() != word:\n",
    "        res = 'Вы не угадали!'\n",
    "        result.config(text = res)\n",
    "def exit():\n",
    "    answer = mb.askyesno(title = 'Внимание!', message = 'Вы точно хотите выйти из программы?')\n",
    "    if answer == True:\n",
    "        window.destroy()\n",
    "\n",
    "action = tkinter.Label(window, text='Укажите перевод слова: ')\n",
    "action.pack()\n",
    "question = tkinter.Label(window, text = randomword)\n",
    "question.pack()\n",
    "frame = tkinter.Frame(window)\n",
    "frame.pack()\n",
    "entry = tkinter.Entry(frame)\n",
    "entry.pack()\n",
    "result = tkinter.Label(window)\n",
    "result.pack()\n",
    "\n",
    "button = tkinter.Button(window, text = 'Готово', command=click)\n",
    "button.pack()\n",
    "button1 = tkinter.Button(window, text = 'Выход', command=exit)\n",
    "button1.pack()\n",
    " \n",
    "window.mainloop()"
   ]
  }
 ],
 "metadata": {
  "kernelspec": {
   "display_name": "Python 3",
   "language": "python",
   "name": "python3"
  },
  "language_info": {
   "codemirror_mode": {
    "name": "ipython",
    "version": 3
   },
   "file_extension": ".py",
   "mimetype": "text/x-python",
   "name": "python",
   "nbconvert_exporter": "python",
   "pygments_lexer": "ipython3",
   "version": "3.7.4"
  }
 },
 "nbformat": 4,
 "nbformat_minor": 4
}
